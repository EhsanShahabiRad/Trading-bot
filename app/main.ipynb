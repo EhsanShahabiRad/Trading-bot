{
 "cells": [
  {
   "cell_type": "code",
   "execution_count": 16,
   "metadata": {},
   "outputs": [
    {
     "name": "stderr",
     "output_type": "stream",
     "text": [
      "[*********************100%%**********************]  1 of 1 completed\n",
      "[*********************100%%**********************]  1 of 1 completed\n",
      "[*********************100%%**********************]  1 of 1 completed\n"
     ]
    },
    {
     "name": "stdout",
     "output_type": "stream",
     "text": [
      "   4h_1_Open  4h_1_High  4h_1_Low  4h_1_Close  4h_2_Open  4h_2_High  4h_2_Low  \\\n",
      "0   1.081081   1.081666  1.081081    1.081549   1.081549   1.081783  1.081315   \n",
      "\n",
      "   4h_2_Close  4h_3_Open  4h_3_High  ...  15m_478_Low  15m_478_Close  \\\n",
      "0    1.081432   1.081432   1.082134  ...     1.087548         1.0898   \n",
      "\n",
      "   15m_479_Open  15m_479_High  15m_479_Low  15m_479_Close  15m_480_Open  \\\n",
      "0      1.089918      1.090156     1.088969       1.089206      1.089087   \n",
      "\n",
      "   15m_480_High  15m_480_Low  15m_480_Close  \n",
      "0      1.090037     1.089087       1.089443  \n",
      "\n",
      "[1 rows x 2520 columns]\n"
     ]
    }
   ],
   "source": [
    "import yfinance as yf\n",
    "import pandas as pd\n",
    "\n",
    "def get_last_n_candles(symbol, interval, n):\n",
    "    if interval == '4h':\n",
    "        data = yf.download(symbol, period='3mo', interval='1h')\n",
    "        data_4h = data.resample('4h').agg({\n",
    "            'Open': 'first',\n",
    "            'High': 'max',\n",
    "            'Low': 'min',\n",
    "            'Close': 'last'\n",
    "        }).dropna()\n",
    "        last_n_candles = data_4h.tail(n)\n",
    "    elif interval == '1h':\n",
    "        data = yf.download(symbol, period='1mo', interval='1h')\n",
    "        last_n_candles = data.tail(n)\n",
    "    elif interval == '15m':\n",
    "        data = yf.download(symbol, period='1mo', interval='15m')\n",
    "        last_n_candles = data.tail(n)\n",
    "    return last_n_candles[['Open', 'High', 'Low', 'Close']]\n",
    "\n",
    "def flatten_candles(data, interval):\n",
    "    flat_data = {}\n",
    "    for i, (index, row) in enumerate(data.iterrows()):\n",
    "        for col in data.columns:\n",
    "            flat_data[f\"{interval}_{i+1}_{col}\"] = row[col]\n",
    "    return flat_data\n",
    "\n",
    "symbol = 'EURUSD=X'\n",
    "n_4h = 30\n",
    "n_1h = 120\n",
    "n_15m = 480\n",
    "\n",
    "last_30_4h_candles = get_last_n_candles(symbol, '4h', n_4h)\n",
    "last_120_1h_candles = get_last_n_candles(symbol, '1h', n_1h)\n",
    "last_480_15m_candles = get_last_n_candles(symbol, '15m', n_15m)\n",
    "\n",
    "flat_4h_candles = flatten_candles(last_30_4h_candles, '4h')\n",
    "flat_1h_candles = flatten_candles(last_120_1h_candles, '1h')\n",
    "flat_15m_candles = flatten_candles(last_480_15m_candles, '15m')\n",
    "\n",
    "all_flat_data = {**flat_4h_candles, **flat_1h_candles, **flat_15m_candles}\n",
    "all_flat_df = pd.DataFrame([all_flat_data])\n",
    "\n",
    "print(all_flat_df)\n"
   ]
  }
 ],
 "metadata": {
  "kernelspec": {
   "display_name": "venv",
   "language": "python",
   "name": "python3"
  },
  "language_info": {
   "codemirror_mode": {
    "name": "ipython",
    "version": 3
   },
   "file_extension": ".py",
   "mimetype": "text/x-python",
   "name": "python",
   "nbconvert_exporter": "python",
   "pygments_lexer": "ipython3",
   "version": "3.12.2"
  }
 },
 "nbformat": 4,
 "nbformat_minor": 2
}
